{
 "cells": [
  {
   "cell_type": "markdown",
   "metadata": {},
   "source": [
    "## MDP\n",
    "[Latex symbols](https://oeis.org/wiki/List_of_LaTeX_mathematical_symbols)\n",
    "[Solving an MDP with Q-Learning from scratch ](https://medium.com/@curiousily/solving-an-mdp-with-q-learning-from-scratch-deep-reinforcement-learning-for-hackers-part-1-45d1d360c120)\n",
    "Rewards:  \n",
    "$R_t = r_t + r_{t+1} + ... + r_n$\n",
    "\n",
    "Discounted reward:\n",
    "$R_t = R_t + \\gamma r_{t+1} + ... + \\gamma^{n-t}r_n = r_t + \\gamma R_{t+1}$\n",
    "\n",
    "Агент должен выбирать то действие, которое позволит ему максимизировать будущий ревард на каждом шаге.\n",
    "\n",
    "**Value function:**\n",
    "\n",
    "Позволяет оценить насколько хорошим является состояние $s$. Позволяет оценить следующее: неважно в каком состоянии ты сейчас, но если ты перейдёшь в состояние $s$, то твой полный ревард будет $x$. (если ты пойдёшь в s и будешь следовать полиси $\\pi$.\n",
    "\n",
    "$V^\\pi(s) = E (\\sum\\limits_{t \\geq 0} \\gamma^t r_t) \\ \\ \\forall s \\in S$\n",
    "Where: $s$ - state, $\\pi$ - policy, $V$ - value function.\n",
    "\n",
    "**Optimal value Function**\n",
    "\n",
    "Возвращает наибольшее значение для всех состояний.\n",
    "\n",
    "$V^*(s) = \\max\\limits_{\\pi} V^\\pi (s) \\ \\ \\forall s \\in S$\n",
    "\n",
    "\n",
    "**Q function**\n",
    "\n",
    "Данная функция позволяет оценить полный ревард по \n",
    "\n",
    "Соотношение между функциями $V^∗$ и $Q^∗$\n",
    "\n",
    "\n",
    "$V^*(s) = \\max\\limits_{a} Q^*(s) \\ \\ \\forall s \\in S$\n",
    "\n",
    "That is, the maximum expected total reward when starting at $s$ is the maximum of $Q^∗(s, a)$ over all possible actions.\n",
    "\n",
    "\n",
    "Using Q∗(s, a) we can extract the optimal policy π∗ by choosing the action aa that gives maximum reward Q∗(s, a) for state s. We have:\n",
    "\n",
    "$\\pi^*(s) = \\arg \\max\\limits_{a} Q^* (s) \\ \\ \\forall s \\in S$\n",
    "\n",
    "$Q(s,a) = r + \\gamma \\max\\limits_{a'} Q (s',a')$\n",
    "\n",
    "This equation, known as the Bellman equation, tells us that the maximum future reward is the reward the agent received for entering the current state s plus the maximum future reward for the next state s′. The gist of Q-learning is that we can iteratively approximate Q∗ using the Bellman equation described above.\n",
    "\n",
    "$Q_{t+1}(s_t,a_t) = Q_{t}(s_t,a_t) + \\alpha(r_{t+1} + \\gamma \\max\\limits_{a} Q (s_{t+1},a) -  Q (s_{t+1},a) ) $"
   ]
  },
  {
   "cell_type": "code",
   "execution_count": 2,
   "metadata": {},
   "outputs": [],
   "source": [
    "from tqdm import tqdm"
   ]
  },
  {
   "cell_type": "code",
   "execution_count": 3,
   "metadata": {},
   "outputs": [
    {
     "name": "stdout",
     "output_type": "stream",
     "text": [
      "i *\n",
      "z c\n"
     ]
    }
   ],
   "source": [
    "ZOMBIE = \"z\"\n",
    "CAR = \"c\"\n",
    "ICE_CREAM = \"i\"\n",
    "EMPTY = \"*\"\n",
    "\n",
    "grid = [\n",
    "    [ICE_CREAM, EMPTY],\n",
    "    [ZOMBIE, CAR]\n",
    "]\n",
    "\n",
    "for row in grid:\n",
    "    print(' '.join(row))\n"
   ]
  },
  {
   "cell_type": "code",
   "execution_count": 4,
   "metadata": {},
   "outputs": [],
   "source": [
    "class State:\n",
    "    def __init__(self, grid, car_pos):\n",
    "        self.grid = grid\n",
    "        self.car_pos = car_pos\n",
    "    def __eq__(self, other):\n",
    "        return isinstance(other, State) and self.grid == other.grid and self.car_pos == other.car_pose\n",
    "    \n",
    "    def __hash__(self):\n",
    "        return hash(str(self.grid) + str(self.car_pos))\n",
    "    def __str(self):\n",
    "        return f\"State(grid={self.grid}, car_pos={self.car_pos})\"\n",
    "    "
   ]
  },
  {
   "cell_type": "code",
   "execution_count": 5,
   "metadata": {},
   "outputs": [],
   "source": [
    "#actions\n",
    "UP = 0\n",
    "DOWN = 1\n",
    "LEFT = 2\n",
    "RIGHT = 3\n",
    "ACTIONS = [UP, DOWN, LEFT, RIGHT]"
   ]
  },
  {
   "cell_type": "code",
   "execution_count": 6,
   "metadata": {},
   "outputs": [],
   "source": [
    "start_state = State(grid=grid, car_pos=[1,1])"
   ]
  },
  {
   "cell_type": "code",
   "execution_count": null,
   "metadata": {},
   "outputs": [],
   "source": [
    "from copy import deepcopy\n",
    "\n",
    "def act(stte, action):\n",
    "    def new_car_pos(state, action):\n",
    "        p = deepcopy(state.car_pos)\n",
    "        if action == UP:\n",
    "            p[0] = max(0, p[0]-1)\n",
    "        elif action == DOWN:\n",
    "            p[0] == min(len(state.grid) - 1, p[0] + 1)\n",
    "        elif action == LEFT:\n",
    "            p[1] = max(0, p[1] - 1)\n",
    "        elif ation == RIGHT:\n",
    "            p[1] = min(len(state.grid[0]) - 1, p[1] + 1)\n",
    "        else:\n",
    "            raise ValueError(f\"Unknown action {action}\")\n",
    "        \n",
    "        return p\n",
    "    \n",
    "    p = new_car_pos(state, action)\n",
    "    grid_item = state.grid[p[0]][p[1]]\n",
    "    \n",
    "    new_grid = deepcopy(state.grid)\n",
    "    \n",
    "    if grid_item == ZOMBIE:\n",
    "        reward = -100\n",
    "        is_done = True\n",
    "        new_grid[p[0]][p1[1]] += CAR\n",
    "    elif grid_item == ICE_CREAM:\n",
    "        reward = 1000\n",
    "        is_done = True\n",
    "        new_grid[p[0]][p1[1]] += CAR\n",
    "    elif grid_item == EMPTY:\n",
    "        reward = -1\n",
    "        is_done = False\n",
    "        old = state.car_pose\n",
    "        new_grid[old[0]][old[1]] = EMPTY\n",
    "        new_grid[p[0]][p[1]] = CAR\n",
    "    elif grid_item == CAR:\n",
    "        reward = -1\n",
    "        is_done = False\n",
    "    else:\n",
    "        raise ValueError(f\"Unknown grid item {grid_item}\")\n",
    "    \n",
    "    return State(grid=new_grid, car_pos = p), reward, is_done\n"
   ]
  }
 ],
 "metadata": {
  "kernelspec": {
   "display_name": "Python 3",
   "language": "python",
   "name": "python3"
  },
  "language_info": {
   "codemirror_mode": {
    "name": "ipython",
    "version": 3
   },
   "file_extension": ".py",
   "mimetype": "text/x-python",
   "name": "python",
   "nbconvert_exporter": "python",
   "pygments_lexer": "ipython3",
   "version": "3.7.5"
  }
 },
 "nbformat": 4,
 "nbformat_minor": 4
}
